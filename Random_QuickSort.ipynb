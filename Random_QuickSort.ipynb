{
  "nbformat": 4,
  "nbformat_minor": 0,
  "metadata": {
    "colab": {
      "provenance": [],
      "authorship_tag": "ABX9TyPcRgETs09m7Axz6aENmrOS",
      "include_colab_link": true
    },
    "kernelspec": {
      "name": "python3",
      "display_name": "Python 3"
    },
    "language_info": {
      "name": "python"
    }
  },
  "cells": [
    {
      "cell_type": "markdown",
      "metadata": {
        "id": "view-in-github",
        "colab_type": "text"
      },
      "source": [
        "<a href=\"https://colab.research.google.com/github/budhilsai-19/HandsOn---6/blob/main/Random_QuickSort.ipynb\" target=\"_parent\"><img src=\"https://colab.research.google.com/assets/colab-badge.svg\" alt=\"Open In Colab\"/></a>"
      ]
    },
    {
      "cell_type": "code",
      "execution_count": 1,
      "metadata": {
        "colab": {
          "base_uri": "https://localhost:8080/"
        },
        "id": "0oFNrvu3isGd",
        "outputId": "9d30a430-8162-4919-dd31-0b4f188c0176"
      },
      "outputs": [
        {
          "output_type": "stream",
          "name": "stdout",
          "text": [
            "Original array: [54, 51, 71, 25, 88]\n",
            "Sorted array using random quicksort: [25, 51, 54, 71, 88]\n"
          ]
        }
      ],
      "source": [
        "import random\n",
        "\n",
        "def partition(arr, low, high):\n",
        "    pivot = arr[high]\n",
        "    i = low - 1\n",
        "    for j in range(low, high):\n",
        "        if arr[j] <= pivot:\n",
        "            i += 1\n",
        "            arr[i], arr[j] = arr[j], arr[i]\n",
        "    arr[i + 1], arr[high] = arr[high], arr[i + 1]\n",
        "    return i + 1\n",
        "\n",
        "def random_partition(arr, low, high):\n",
        "    random_index = random.randint(low, high)\n",
        "    arr[random_index], arr[high] = arr[high], arr[random_index]\n",
        "    return partition(arr, low, high)\n",
        "\n",
        "def random_quicksort(arr, low, high):\n",
        "    if low < high:\n",
        "        pi = random_partition(arr, low, high)\n",
        "        random_quicksort(arr, low, pi - 1)\n",
        "        random_quicksort(arr, pi + 1, high)\n",
        "\n",
        "# Example usage:\n",
        "arr = [54, 51, 71, 25, 88]\n",
        "n = len(arr)\n",
        "print(\"Original array:\", arr)\n",
        "\n",
        "random_quicksort(arr, 0, n - 1)\n",
        "print(\"Sorted array using random quicksort:\", arr)"
      ]
    }
  ]
}